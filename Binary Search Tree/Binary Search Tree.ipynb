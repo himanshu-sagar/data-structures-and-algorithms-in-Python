{
 "cells": [
  {
   "cell_type": "markdown",
   "metadata": {},
   "source": [
    "# Binary Search Tree"
   ]
  },
  {
   "cell_type": "code",
   "execution_count": 27,
   "metadata": {},
   "outputs": [],
   "source": [
    "class Node:\n",
    "    \n",
    "    def __init__(self, data):\n",
    "        self.left = None\n",
    "        self.right = None\n",
    "        self.data = data\n",
    "def insert(root, data):\n",
    "\n",
    "    if root.data:\n",
    "        if data < root.data:\n",
    "            if root.left is None:\n",
    "                root.left = Node(data)\n",
    "            else:\n",
    "                insert(root.left,data)\n",
    "        elif data > root.data:\n",
    "            if root.right is None:\n",
    "                root.right = Node(data)\n",
    "            else:\n",
    "                insert(root.right,data)\n",
    "    else:\n",
    "        root.data = data\n",
    "def preorder(tree):\n",
    "    if tree:\n",
    "        print(tree.data,end=' ')\n",
    "        preorder(tree.left)\n",
    "        preorder(tree.right)\n",
    "def inorder(tree):\n",
    "    if tree:\n",
    "        inorder(tree.left)\n",
    "        print(tree.data,end=' ')\n",
    "        inorder(tree.right)\n",
    "def postorder(tree):\n",
    "    if tree:\n",
    "        postorder(tree.left)\n",
    "        postorder(tree.right)\n",
    "        print(tree.data,end=' ')\n",
    "def LevelOrder(tree):\n",
    "    q=[]\n",
    "    q.append(tree)\n",
    "    while len(q)!=0:\n",
    "        p=q.pop(0)\n",
    "        print(p.data,end=\"-->\")\n",
    "        if p.left!=None:\n",
    "            q.append(p.left)\n",
    "            \n",
    "        if p.right!=None:\n",
    "            q.append(p.right)\n",
    "def LevelOrder1(tree):\n",
    "    from collections import deque\n",
    "    q=deque()\n",
    "    q.append(tree)\n",
    "    size=1\n",
    "    while size!=0:\n",
    "        temp=q.popleft()\n",
    "        size-=1\n",
    "        print(temp.data,end=\"-->\")\n",
    "        if temp.left!=None:\n",
    "            q.append(temp.left)\n",
    "            size+=1\n",
    "        if temp.right!=None:\n",
    "            q.append(temp.right)\n",
    "            size+=1\n",
    "def levelOrderLineByLine(tree):\n",
    "    from collections import deque\n",
    "    q=deque()\n",
    "    q.append(tree)\n",
    "    q.append(None)\n",
    "    size=2\n",
    "    while size>1:\n",
    "        temp=q.popleft()\n",
    "        size-=1\n",
    "        if temp==None:\n",
    "            print()\n",
    "            q.append(None)\n",
    "            size+=1\n",
    "            continue\n",
    "        print(temp.data,end=\" \")\n",
    "        if temp.left!=None:\n",
    "            q.append(temp.left)\n",
    "            size+=1\n",
    "        if temp.right!=None:\n",
    "            q.append(temp.right)\n",
    "            size+=1\n",
    "    print()"
   ]
  },
  {
   "cell_type": "code",
   "execution_count": 41,
   "metadata": {},
   "outputs": [
    {
     "name": "stdout",
     "output_type": "stream",
     "text": [
      "1 3 4 5 6 7 9 43 45 65 \n",
      "6 3 1 4 5 7 9 45 43 65 \n",
      "1 5 4 3 43 65 45 9 7 6 \n"
     ]
    }
   ],
   "source": [
    "arr=[6,3,4,7,1,9,5,45,43,65]\n",
    "tree=Node(arr[0])\n",
    "for i in range(1,len(arr)):\n",
    "    insert(tree,arr[i])\n",
    "inorder(tree)\n",
    "print()\n",
    "preorder(tree)\n",
    "print()\n",
    "postorder(tree)\n",
    "print()"
   ]
  },
  {
   "cell_type": "code",
   "execution_count": 28,
   "metadata": {},
   "outputs": [],
   "source": [
    "def width(tree):\n",
    "    from collections import deque\n",
    "    q=deque()\n",
    "    q.append(tree)\n",
    "    q.append(None)\n",
    "    size=2\n",
    "    res=0\n",
    "    while size>1:\n",
    "        count=size\n",
    "        res=max(count,res)\n",
    "        for i in range(size):\n",
    "            \n",
    "            temp=q.popleft()\n",
    "            size-=1\n",
    "            if temp==None:\n",
    "                q.append(None)\n",
    "                size+=1\n",
    "                continue\n",
    "            if temp.left!=None:\n",
    "                q.append(temp.left)\n",
    "                size+=1\n",
    "            if temp.right!=None:\n",
    "                q.append(temp.right)\n",
    "                size+=1\n",
    "    return res-1"
   ]
  },
  {
   "cell_type": "code",
   "execution_count": 42,
   "metadata": {},
   "outputs": [
    {
     "data": {
      "text/plain": [
       "3"
      ]
     },
     "execution_count": 42,
     "metadata": {},
     "output_type": "execute_result"
    }
   ],
   "source": [
    "width(tree)"
   ]
  },
  {
   "cell_type": "code",
   "execution_count": 29,
   "metadata": {},
   "outputs": [],
   "source": [
    "def width1(root):\n",
    "    from collections import deque\n",
    "    q=deque()\n",
    "    q.append(root)\n",
    "    width=0\n",
    "    size=1\n",
    "    while size!=0:\n",
    "        width=max(size,width)\n",
    "        for i in range(size):\n",
    "            temp=q.popleft()\n",
    "            size-=1\n",
    "            if temp.left!=None:\n",
    "                q.append(temp.left)\n",
    "                size+=1\n",
    "            if temp.right!=None:\n",
    "                q.append(temp.right)\n",
    "                size+=1\n",
    "    return width"
   ]
  },
  {
   "cell_type": "code",
   "execution_count": 43,
   "metadata": {},
   "outputs": [
    {
     "data": {
      "text/plain": [
       "3"
      ]
     },
     "execution_count": 43,
     "metadata": {},
     "output_type": "execute_result"
    }
   ],
   "source": [
    "width1(tree)"
   ]
  },
  {
   "cell_type": "code",
   "execution_count": 30,
   "metadata": {},
   "outputs": [],
   "source": [
    "def sizeOfTree(tree):#O(n),space-O(height)\n",
    "    if tree==None:\n",
    "        return 0\n",
    "    else:\n",
    "        return 1+sizeOfTree(tree.left)+sizeOfTree(tree.right)"
   ]
  },
  {
   "cell_type": "code",
   "execution_count": 44,
   "metadata": {},
   "outputs": [
    {
     "data": {
      "text/plain": [
       "10"
      ]
     },
     "execution_count": 44,
     "metadata": {},
     "output_type": "execute_result"
    }
   ],
   "source": [
    "sizeOfTree(tree)"
   ]
  },
  {
   "cell_type": "code",
   "execution_count": 31,
   "metadata": {},
   "outputs": [],
   "source": [
    "import sys\n",
    "def maxValOfTree(tree):#O(n),space-O(height)\n",
    "    if tree==None:\n",
    "        return -9987877\n",
    "    else:\n",
    "        return max(tree.data,max(maxValOfTree(tree.left),maxValOfTree(tree.right)))"
   ]
  },
  {
   "cell_type": "code",
   "execution_count": 45,
   "metadata": {},
   "outputs": [
    {
     "data": {
      "text/plain": [
       "65"
      ]
     },
     "execution_count": 45,
     "metadata": {},
     "output_type": "execute_result"
    }
   ],
   "source": [
    "maxValOfTree(tree)"
   ]
  },
  {
   "cell_type": "code",
   "execution_count": 32,
   "metadata": {},
   "outputs": [],
   "source": [
    "def height(tree):\n",
    "    if tree==None:\n",
    "        return 0\n",
    "    else:\n",
    "        return max(height(tree.left),height(tree.right))+1"
   ]
  },
  {
   "cell_type": "code",
   "execution_count": 46,
   "metadata": {},
   "outputs": [
    {
     "data": {
      "text/plain": [
       "5"
      ]
     },
     "execution_count": 46,
     "metadata": {},
     "output_type": "execute_result"
    }
   ],
   "source": [
    "height(tree)"
   ]
  },
  {
   "cell_type": "code",
   "execution_count": 33,
   "metadata": {},
   "outputs": [],
   "source": [
    "def printKthLevel(tree,k):#O(n),space=O(height)\n",
    "    if tree==None:\n",
    "        return\n",
    "    if k==0:\n",
    "        print(tree.data,end=\" \")\n",
    "    else:\n",
    "        printKthLevel(tree.left,k-1)\n",
    "        printKthLevel(tree.right,k-1)\n"
   ]
  },
  {
   "cell_type": "code",
   "execution_count": 47,
   "metadata": {},
   "outputs": [
    {
     "name": "stdout",
     "output_type": "stream",
     "text": [
      "1 4 9 "
     ]
    }
   ],
   "source": [
    "printKthLevel(tree,2)"
   ]
  },
  {
   "cell_type": "code",
   "execution_count": 34,
   "metadata": {},
   "outputs": [],
   "source": [
    "\n",
    "def leftnodes(tree,level):\n",
    "    if tree==None:\n",
    "        return\n",
    "    if maxlevel<level:\n",
    "        print(tree.data,end=\" \")\n",
    "        maxlevel=level\n",
    "    printleftnodes(tree.left,level+1)\n",
    "    printleftnodes(tree.right,level+1)\n",
    "def printleftnodes(tree,level):\n",
    "    \n",
    "    leftnodes(tree,level)"
   ]
  },
  {
   "cell_type": "code",
   "execution_count": null,
   "metadata": {},
   "outputs": [],
   "source": []
  },
  {
   "cell_type": "code",
   "execution_count": 35,
   "metadata": {},
   "outputs": [],
   "source": [
    "def childrenSumProperty(tree):\n",
    "    if tree==None:\n",
    "        return True\n",
    "    if tree.left==None and tree.right==None:\n",
    "        return True\n",
    "    sum=0\n",
    "    if tree.left!=None:\n",
    "        sum+=tree.left.data\n",
    "    if tree.right!=None:\n",
    "        sum+=tree.right.data\n",
    "    return (tree.data==sum and childrenSumProperty(tree.left) and childrenSumProperty(tree.right))\n"
   ]
  },
  {
   "cell_type": "code",
   "execution_count": 49,
   "metadata": {},
   "outputs": [
    {
     "data": {
      "text/plain": [
       "False"
      ]
     },
     "execution_count": 49,
     "metadata": {},
     "output_type": "execute_result"
    }
   ],
   "source": [
    "childrenSumProperty(tree)"
   ]
  },
  {
   "cell_type": "code",
   "execution_count": 36,
   "metadata": {},
   "outputs": [],
   "source": [
    "def isHeightbalanced(tree):#O(n^2)\n",
    "    if tree==None:\n",
    "        return True\n",
    "    lh=height(tree.left)\n",
    "    rh=height(tree.right)\n",
    "    x=lh-rh\n",
    "    return (abs(x)<=1 and isHeightbalanced(tree.left) and isHeightbalanced(tree.right))\n",
    "    "
   ]
  },
  {
   "cell_type": "code",
   "execution_count": 50,
   "metadata": {},
   "outputs": [
    {
     "data": {
      "text/plain": [
       "False"
      ]
     },
     "execution_count": 50,
     "metadata": {},
     "output_type": "execute_result"
    }
   ],
   "source": [
    "isHeightbalanced(tree)"
   ]
  },
  {
   "cell_type": "code",
   "execution_count": 37,
   "metadata": {},
   "outputs": [],
   "source": [
    "def isHeightbalanced1(tree):#O(n)\n",
    "    if tree==None:\n",
    "        return 0\n",
    "    lh=isHeightbalanced1(tree.left)\n",
    "    if lh==-1:\n",
    "        return -1\n",
    "    rh=isHeightbalanced1(tree.right)\n",
    "    if rh==-1:\n",
    "        return -1\n",
    "    x=abs(lh-rh)\n",
    "    if x>1:\n",
    "        return -1\n",
    "    else:\n",
    "        return max(lh,rh)+1\n",
    "    \n",
    "    \n",
    "        "
   ]
  },
  {
   "cell_type": "code",
   "execution_count": 51,
   "metadata": {},
   "outputs": [
    {
     "data": {
      "text/plain": [
       "-1"
      ]
     },
     "execution_count": 51,
     "metadata": {},
     "output_type": "execute_result"
    }
   ],
   "source": [
    "isHeightbalanced1(tree)"
   ]
  },
  {
   "cell_type": "code",
   "execution_count": null,
   "metadata": {},
   "outputs": [],
   "source": []
  },
  {
   "cell_type": "code",
   "execution_count": null,
   "metadata": {},
   "outputs": [],
   "source": []
  },
  {
   "cell_type": "code",
   "execution_count": 10,
   "metadata": {},
   "outputs": [],
   "source": []
  },
  {
   "cell_type": "code",
   "execution_count": null,
   "metadata": {},
   "outputs": [],
   "source": []
  }
 ],
 "metadata": {
  "kernelspec": {
   "display_name": "Python 3",
   "language": "python",
   "name": "python3"
  },
  "language_info": {
   "codemirror_mode": {
    "name": "ipython",
    "version": 3
   },
   "file_extension": ".py",
   "mimetype": "text/x-python",
   "name": "python",
   "nbconvert_exporter": "python",
   "pygments_lexer": "ipython3",
   "version": "3.6.5"
  }
 },
 "nbformat": 4,
 "nbformat_minor": 2
}
