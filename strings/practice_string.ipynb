{
 "cells": [
  {
   "cell_type": "code",
   "execution_count": 8,
   "source": [
    "st1 = \"Hiii\"\r\n",
    "st2 = \"Hello\"\r\n",
    "print(st1 + \" \"+st2)\r\n",
    "\r\n",
    "print(repr(st1 and st2))"
   ],
   "outputs": [
    {
     "output_type": "stream",
     "name": "stdout",
     "text": [
      "Hiii Hello\n",
      "'Hello'\n"
     ]
    }
   ],
   "metadata": {}
  },
  {
   "cell_type": "code",
   "execution_count": 23,
   "source": [
    "st = \"Hiii {a} {b} {c}\".format(a='Sagar',b='how',c='are')\r\n",
    "st"
   ],
   "outputs": [
    {
     "output_type": "execute_result",
     "data": {
      "text/plain": [
       "'Hiii Sagar how are'"
      ]
     },
     "metadata": {},
     "execution_count": 23
    }
   ],
   "metadata": {}
  },
  {
   "cell_type": "code",
   "execution_count": 29,
   "source": [
    "st3 = \"{0:.2f}\".format(16)\r\n",
    "st3"
   ],
   "outputs": [
    {
     "output_type": "execute_result",
     "data": {
      "text/plain": [
       "'16.00'"
      ]
     },
     "metadata": {},
     "execution_count": 29
    }
   ],
   "metadata": {}
  },
  {
   "cell_type": "code",
   "execution_count": 30,
   "source": [
    "st3 = \"{0:b}\".format(16)\r\n",
    "st3"
   ],
   "outputs": [
    {
     "output_type": "execute_result",
     "data": {
      "text/plain": [
       "'10000'"
      ]
     },
     "metadata": {},
     "execution_count": 30
    }
   ],
   "metadata": {}
  },
  {
   "cell_type": "code",
   "execution_count": 33,
   "source": [
    "st3 = \"{0:b}\".format(120)\r\n",
    "st3"
   ],
   "outputs": [
    {
     "output_type": "execute_result",
     "data": {
      "text/plain": [
       "'1111000'"
      ]
     },
     "metadata": {},
     "execution_count": 33
    }
   ],
   "metadata": {}
  },
  {
   "cell_type": "code",
   "execution_count": 48,
   "source": [
    "st = \"{:<10}\".format(\"Sagdfff\")\r\n",
    "st2 = \"{:>10}\".format(\"Sagdfff\")\r\n",
    "st3 = \"{:^10}\".format(\"Sagdfff\")\r\n",
    "print(len(st))\r\n",
    "print(repr(st2))\r\n",
    "print(repr(st3))"
   ],
   "outputs": [
    {
     "output_type": "stream",
     "name": "stdout",
     "text": [
      "10\n",
      "'   Sagdfff'\n",
      "' Sagdfff  '\n"
     ]
    }
   ],
   "metadata": {}
  },
  {
   "cell_type": "code",
   "execution_count": 53,
   "source": [
    "# Template in string\r\n",
    "\r\n",
    "from string import Template\r\n",
    "\r\n",
    "t = Template(\"Hii $name\")\r\n",
    "\r\n",
    "print(t.substitute({'name':\"Sagar\"}))"
   ],
   "outputs": [
    {
     "output_type": "stream",
     "name": "stdout",
     "text": [
      "Hii Sagar\n"
     ]
    }
   ],
   "metadata": {}
  },
  {
   "cell_type": "code",
   "execution_count": 58,
   "source": [
    "import collections\r\n",
    "\r\n",
    "def ladderLength( beginWord: str, endWord: str, wordList: list) -> int:\r\n",
    "    print(beginWord,endWord,wordList)\r\n",
    "    if endWord not in wordList:\r\n",
    "        return 0\r\n",
    "    wordList = set(wordList)\r\n",
    "    if beginWord not in wordList:\r\n",
    "        wordList.add(beginWord)\r\n",
    "    q = collections.deque([(beginWord, 1)])\r\n",
    "    while q:\r\n",
    "        word, steps = q.popleft()\r\n",
    "        if word == endWord:\r\n",
    "\r\n",
    "            return steps\r\n",
    "        for i in range(len(word)):\r\n",
    "            for c in 'abcdefghijklmnopqrstuvwxyz':\r\n",
    "                next_word = word[:i] + c + word[i+1:]\r\n",
    "                if next_word in wordList:\r\n",
    "                    wordList.remove(next_word)\r\n",
    "                    q.append((next_word, steps + 1))\r\n",
    "    return 0\r\n",
    "\r\n",
    "\r\n",
    "ladderLength(\"hit\",\"cog\",[\"hot\",\"dot\",\"dog\",\"lot\",\"log\",\"cog\"])"
   ],
   "outputs": [
    {
     "output_type": "stream",
     "name": "stdout",
     "text": [
      "hit cog ['hot', 'dot', 'dog', 'lot', 'log', 'cog']\n"
     ]
    },
    {
     "output_type": "execute_result",
     "data": {
      "text/plain": [
       "5"
      ]
     },
     "metadata": {},
     "execution_count": 58
    }
   ],
   "metadata": {}
  },
  {
   "cell_type": "code",
   "execution_count": null,
   "source": [],
   "outputs": [],
   "metadata": {}
  }
 ],
 "metadata": {
  "orig_nbformat": 4,
  "language_info": {
   "name": "python",
   "version": "3.8.8",
   "mimetype": "text/x-python",
   "codemirror_mode": {
    "name": "ipython",
    "version": 3
   },
   "pygments_lexer": "ipython3",
   "nbconvert_exporter": "python",
   "file_extension": ".py"
  },
  "kernelspec": {
   "name": "python3",
   "display_name": "Python 3.8.8 64-bit ('base': conda)"
  },
  "interpreter": {
   "hash": "aff7d35daefd51cb0c9fe3a4c0bc3d379a5477445bc90179fee77e1963b8f18a"
  }
 },
 "nbformat": 4,
 "nbformat_minor": 2
}